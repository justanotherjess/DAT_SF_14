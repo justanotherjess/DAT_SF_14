{
 "cells": [
  {
   "cell_type": "code",
   "execution_count": 2,
   "metadata": {
    "collapsed": false
   },
   "outputs": [
    {
     "name": "stdout",
     "output_type": "stream",
     "text": [
      "Requirement already satisfied (use --upgrade to upgrade): seaborn in /Users/jannelee/anaconda/lib/python2.7/site-packages\r\n"
     ]
    }
   ],
   "source": [
    "#SETUP\n",
    "\n",
    "!pip install seaborn \n",
    "\n",
    "# import libraries\n",
    "\n",
    "import pandas as pd\n",
    "import numpy as np\n",
    "import seaborn as sns\n",
    "import matplotlib.pyplot as plt\n",
    "\n",
    "# enables inline plots, without it plots don't show up in the notebook\n",
    "%matplotlib inline"
   ]
  },
  {
   "cell_type": "code",
   "execution_count": 105,
   "metadata": {
    "collapsed": false
   },
   "outputs": [
    {
     "name": "stdout",
     "output_type": "stream",
     "text": [
      "<class 'pandas.core.frame.DataFrame'>\n",
      "Int64Index: 891 entries, 0 to 890\n",
      "Data columns (total 12 columns):\n",
      "PassengerId    891 non-null int64\n",
      "Survived       891 non-null int64\n",
      "Pclass         891 non-null int64\n",
      "Name           891 non-null object\n",
      "Sex            891 non-null object\n",
      "Age            714 non-null float64\n",
      "SibSp          891 non-null int64\n",
      "Parch          891 non-null int64\n",
      "Ticket         891 non-null object\n",
      "Fare           891 non-null float64\n",
      "Cabin          204 non-null object\n",
      "Embarked       889 non-null object\n",
      "dtypes: float64(2), int64(5), object(5)\n",
      "memory usage: 90.5+ KB\n"
     ]
    },
    {
     "data": {
      "text/html": [
       "<div style=\"max-height:1000px;max-width:1500px;overflow:auto;\">\n",
       "<table border=\"1\" class=\"dataframe\">\n",
       "  <thead>\n",
       "    <tr style=\"text-align: right;\">\n",
       "      <th></th>\n",
       "      <th>PassengerId</th>\n",
       "      <th>Survived</th>\n",
       "      <th>Pclass</th>\n",
       "      <th>Name</th>\n",
       "      <th>Sex</th>\n",
       "      <th>Age</th>\n",
       "      <th>SibSp</th>\n",
       "      <th>Parch</th>\n",
       "      <th>Ticket</th>\n",
       "      <th>Fare</th>\n",
       "      <th>Cabin</th>\n",
       "      <th>Embarked</th>\n",
       "    </tr>\n",
       "  </thead>\n",
       "  <tbody>\n",
       "    <tr>\n",
       "      <th>0</th>\n",
       "      <td> 1</td>\n",
       "      <td> 0</td>\n",
       "      <td> 3</td>\n",
       "      <td>                           Braund, Mr. Owen Harris</td>\n",
       "      <td>   male</td>\n",
       "      <td> 22</td>\n",
       "      <td> 1</td>\n",
       "      <td> 0</td>\n",
       "      <td>        A/5 21171</td>\n",
       "      <td>  7.2500</td>\n",
       "      <td>  NaN</td>\n",
       "      <td> S</td>\n",
       "    </tr>\n",
       "    <tr>\n",
       "      <th>1</th>\n",
       "      <td> 2</td>\n",
       "      <td> 1</td>\n",
       "      <td> 1</td>\n",
       "      <td> Cumings, Mrs. John Bradley (Florence Briggs Th...</td>\n",
       "      <td> female</td>\n",
       "      <td> 38</td>\n",
       "      <td> 1</td>\n",
       "      <td> 0</td>\n",
       "      <td>         PC 17599</td>\n",
       "      <td> 71.2833</td>\n",
       "      <td>  C85</td>\n",
       "      <td> C</td>\n",
       "    </tr>\n",
       "    <tr>\n",
       "      <th>2</th>\n",
       "      <td> 3</td>\n",
       "      <td> 1</td>\n",
       "      <td> 3</td>\n",
       "      <td>                            Heikkinen, Miss. Laina</td>\n",
       "      <td> female</td>\n",
       "      <td> 26</td>\n",
       "      <td> 0</td>\n",
       "      <td> 0</td>\n",
       "      <td> STON/O2. 3101282</td>\n",
       "      <td>  7.9250</td>\n",
       "      <td>  NaN</td>\n",
       "      <td> S</td>\n",
       "    </tr>\n",
       "    <tr>\n",
       "      <th>3</th>\n",
       "      <td> 4</td>\n",
       "      <td> 1</td>\n",
       "      <td> 1</td>\n",
       "      <td>      Futrelle, Mrs. Jacques Heath (Lily May Peel)</td>\n",
       "      <td> female</td>\n",
       "      <td> 35</td>\n",
       "      <td> 1</td>\n",
       "      <td> 0</td>\n",
       "      <td>           113803</td>\n",
       "      <td> 53.1000</td>\n",
       "      <td> C123</td>\n",
       "      <td> S</td>\n",
       "    </tr>\n",
       "    <tr>\n",
       "      <th>4</th>\n",
       "      <td> 5</td>\n",
       "      <td> 0</td>\n",
       "      <td> 3</td>\n",
       "      <td>                          Allen, Mr. William Henry</td>\n",
       "      <td>   male</td>\n",
       "      <td> 35</td>\n",
       "      <td> 0</td>\n",
       "      <td> 0</td>\n",
       "      <td>           373450</td>\n",
       "      <td>  8.0500</td>\n",
       "      <td>  NaN</td>\n",
       "      <td> S</td>\n",
       "    </tr>\n",
       "  </tbody>\n",
       "</table>\n",
       "</div>"
      ],
      "text/plain": [
       "   PassengerId  Survived  Pclass  \\\n",
       "0            1         0       3   \n",
       "1            2         1       1   \n",
       "2            3         1       3   \n",
       "3            4         1       1   \n",
       "4            5         0       3   \n",
       "\n",
       "                                                Name     Sex  Age  SibSp  \\\n",
       "0                            Braund, Mr. Owen Harris    male   22      1   \n",
       "1  Cumings, Mrs. John Bradley (Florence Briggs Th...  female   38      1   \n",
       "2                             Heikkinen, Miss. Laina  female   26      0   \n",
       "3       Futrelle, Mrs. Jacques Heath (Lily May Peel)  female   35      1   \n",
       "4                           Allen, Mr. William Henry    male   35      0   \n",
       "\n",
       "   Parch            Ticket     Fare Cabin Embarked  \n",
       "0      0         A/5 21171   7.2500   NaN        S  \n",
       "1      0          PC 17599  71.2833   C85        C  \n",
       "2      0  STON/O2. 3101282   7.9250   NaN        S  \n",
       "3      0            113803  53.1000  C123        S  \n",
       "4      0            373450   8.0500   NaN        S  "
      ]
     },
     "execution_count": 105,
     "metadata": {},
     "output_type": "execute_result"
    }
   ],
   "source": [
    "# load dataset\n",
    "\n",
    "df = pd.read_csv('titanic.csv')\n",
    "\n",
    "df.info()\n",
    "df.head()"
   ]
  },
  {
   "cell_type": "code",
   "execution_count": 9,
   "metadata": {
    "collapsed": false
   },
   "outputs": [
    {
     "name": "stdout",
     "output_type": "stream",
     "text": [
      "891\n"
     ]
    }
   ],
   "source": [
    "# Q1. How many passengers are in our passenger list? \n",
    "# From here forward, we’ll assume our dataset represents the full passenger list for the Titanic.\n",
    "\n",
    "print len(df)\n",
    "\n",
    "# There are are 891 passengers"
   ]
  },
  {
   "cell_type": "code",
   "execution_count": 36,
   "metadata": {
    "collapsed": false
   },
   "outputs": [
    {
     "name": "stdout",
     "output_type": "stream",
     "text": [
      "342.0\n",
      "891.0\n",
      "0.383838383838\n"
     ]
    }
   ],
   "source": [
    "# Q2. What is the overall survival rate?\n",
    "\n",
    "total_survived = float(df.Survived.sum())\n",
    "total_passengers = float(df.Survived.count())\n",
    "\n",
    "print total_survived\n",
    "print total_passengers\n",
    "\n",
    "print total_survived / total_passengers\n",
    "\n",
    "# The overall survival rate is 38%\n"
   ]
  },
  {
   "cell_type": "code",
   "execution_count": 45,
   "metadata": {
    "collapsed": false
   },
   "outputs": [
    {
     "data": {
      "text/plain": [
       "577"
      ]
     },
     "execution_count": 45,
     "metadata": {},
     "output_type": "execute_result"
    }
   ],
   "source": [
    "#Q3. How many male passengers were onboard?\n",
    "\n",
    "len(df[df.Sex == \"male\"])\n",
    "\n",
    "# There are 577 males passengers onboard"
   ]
  },
  {
   "cell_type": "code",
   "execution_count": 46,
   "metadata": {
    "collapsed": false
   },
   "outputs": [
    {
     "data": {
      "text/plain": [
       "314"
      ]
     },
     "execution_count": 46,
     "metadata": {},
     "output_type": "execute_result"
    }
   ],
   "source": [
    "# Q4. How many female passengers were onboard?\n",
    "\n",
    "len(df[df.Sex == \"female\"])\n",
    "\n",
    "# There are 314 females passengers onboard"
   ]
  },
  {
   "cell_type": "code",
   "execution_count": 60,
   "metadata": {
    "collapsed": false
   },
   "outputs": [
    {
     "name": "stdout",
     "output_type": "stream",
     "text": [
      "0.188908145581\n"
     ]
    }
   ],
   "source": [
    "#Q5. What is the overall survival rate of male passengers?\n",
    "\n",
    "male_df = df[df.Sex == 'male']\n",
    "print float(male_df.Survived.sum()) / float(len(male_df))\n",
    "\n",
    "# The overall survival rate of male passengers is 19%\n"
   ]
  },
  {
   "cell_type": "code",
   "execution_count": 61,
   "metadata": {
    "collapsed": false
   },
   "outputs": [
    {
     "name": "stdout",
     "output_type": "stream",
     "text": [
      "0.742038216561\n"
     ]
    }
   ],
   "source": [
    "#Q6. What is the overall survival rate of female passengers?\n",
    "\n",
    "female_df = df[df.Sex == 'female']\n",
    "print float(female_df.Survived.sum()) / float(len(female_df))\n",
    "\n",
    "# The overall survival rate of male passengers is 74%"
   ]
  },
  {
   "cell_type": "code",
   "execution_count": 72,
   "metadata": {
    "collapsed": false
   },
   "outputs": [
    {
     "name": "stdout",
     "output_type": "stream",
     "text": [
      "29.6991176471\n"
     ]
    },
    {
     "data": {
      "text/plain": [
       "177"
      ]
     },
     "execution_count": 72,
     "metadata": {},
     "output_type": "execute_result"
    }
   ],
   "source": [
    "#Q7. What is the average age of all passengers onboard?\n",
    "\n",
    "#How did you calculate this average age?\n",
    "#Note that some of the passengers do not have an age value. How did you deal with this? What are some other ways of dealing with this?\n",
    "\n",
    "print df.Age.mean()\n",
    "len(df[df.Age.isnull()])\n",
    "\n",
    "# The average age of passengers who survived is 29.7. There are 177 passengers that do not have ages. \n",
    "# I did not include these ages in the calculatio of the mean.\n",
    "# Another way to deal with this is to replace the null values with the average age of the passengers with ages.\n"
   ]
  },
  {
   "cell_type": "code",
   "execution_count": 67,
   "metadata": {
    "collapsed": false
   },
   "outputs": [
    {
     "data": {
      "text/plain": [
       "28.343689655172415"
      ]
     },
     "execution_count": 67,
     "metadata": {},
     "output_type": "execute_result"
    }
   ],
   "source": [
    "#Q7. What is the average age of passengers who survived?\n",
    "\n",
    "df[df.Survived == 1].Age.mean()\n",
    "\n",
    "# The average age of passengers who survived is 28.3"
   ]
  },
  {
   "cell_type": "code",
   "execution_count": 74,
   "metadata": {
    "collapsed": false
   },
   "outputs": [
    {
     "data": {
      "text/plain": [
       "30.626179245283019"
      ]
     },
     "execution_count": 74,
     "metadata": {},
     "output_type": "execute_result"
    }
   ],
   "source": [
    "#Q7. What is the average age of passengers who did not survive?\n",
    "\n",
    "df[df.Survived == 0].Age.mean()\n",
    "\n",
    "# The average age of passengers who did not survive is 30.6"
   ]
  },
  {
   "cell_type": "code",
   "execution_count": 75,
   "metadata": {
    "collapsed": true
   },
   "outputs": [],
   "source": [
    "#Q8.  At this (early) point in our analysis, what might you infer about any patterns you are seeing?\n",
    "\n",
    "# Females had a higher chance of survival than males\n",
    "# Age does not seem to play a role in survival\n"
   ]
  },
  {
   "cell_type": "code",
   "execution_count": 91,
   "metadata": {
    "collapsed": false
   },
   "outputs": [
    {
     "name": "stdout",
     "output_type": "stream",
     "text": [
      "1 216\n",
      "2 184\n",
      "3 491\n"
     ]
    }
   ],
   "source": [
    "#Q9. How many passengers are in each of the three classes of service (e.g. First, Second, Third?)\n",
    "\n",
    "for i in [1,2,3]:\n",
    "    print str(i) + \" \" + str(len(df[df.Pclass == i]))\n",
    "\n",
    "# First = 216\n",
    "# Second = 184\n",
    "# Third = 491\n"
   ]
  },
  {
   "cell_type": "code",
   "execution_count": 100,
   "metadata": {
    "collapsed": false
   },
   "outputs": [
    {
     "name": "stdout",
     "output_type": "stream",
     "text": [
      "Survival Rate in Class 1 is: 0.62962962963\n",
      "Survival Rate in Class 2 is: 0.472826086957\n",
      "Survival Rate in Class 3 is: 0.242362525458\n"
     ]
    }
   ],
   "source": [
    "#Q10. What is the survival rate for passengers in each of the three classes of service?\n",
    "\n",
    "for i in [1,2,3]:\n",
    "    x = float(len(df[df.Pclass == i]))\n",
    "    y = float(len(df[(df.Pclass == i) & (df.Survived == 1)]))\n",
    "    \n",
    "    print \"Survival Rate in Class \" + str(i) + \" is: \" + str(y/x)\n"
   ]
  },
  {
   "cell_type": "code",
   "execution_count": 111,
   "metadata": {
    "collapsed": false
   },
   "outputs": [
    {
     "name": "stdout",
     "output_type": "stream",
     "text": [
      "48.3954076023\n",
      "22.1178868852\n",
      "Survival Rate in Embarked S is: 0.336956521739\n",
      "Survival Rate in Embarked C is: 0.553571428571\n",
      "Survival Rate in Embarked Q is: 0.38961038961\n"
     ]
    }
   ],
   "source": [
    "#Q11. What else might you conclude?\n",
    "\n",
    "# Look at Fare:\n",
    "\n",
    "print df[df.Survived == 1].Fare.mean()\n",
    "print df[df.Survived == 0].Fare.mean()\n",
    "\n",
    "# Look at Embarked:\n",
    "\n",
    "Embarked_List = df.Embarked.unique()\n",
    "\n",
    "for i in Embarked_List[:3]:\n",
    "    x = float(len(df[df.Embarked == i]))\n",
    "    y = float(len(df[(df.Embarked == i) & (df.Survived == 1)]))\n",
    "    \n",
    "    print \"Survival Rate in Embarked \" + str(i) + \" is: \" + str(y/x)\n",
    "\n",
    "# Class 1 had a high chance of survival, having a higher ticket price may also be an indicator of survival"
   ]
  },
  {
   "cell_type": "code",
   "execution_count": null,
   "metadata": {
    "collapsed": true
   },
   "outputs": [],
   "source": [
    "#Q12. Last, if we were to build a predictive model, which features in the data do you think we should include in the model and which can we leave out? Why?\n",
    "\n",
    "# We would most likely include sex, class and fare as a strong indicator of whether or not a passenger would survive.\n",
    "# Age and Embarked is a feature we would not likely include in the model."
   ]
  }
 ],
 "metadata": {
  "kernelspec": {
   "display_name": "Python 2",
   "language": "python",
   "name": "python2"
  },
  "language_info": {
   "codemirror_mode": {
    "name": "ipython",
    "version": 2
   },
   "file_extension": ".py",
   "mimetype": "text/x-python",
   "name": "python",
   "nbconvert_exporter": "python",
   "pygments_lexer": "ipython2",
   "version": "2.7.9"
  }
 },
 "nbformat": 4,
 "nbformat_minor": 0
}
